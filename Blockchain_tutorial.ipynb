{
  "cells": [
    {
      "cell_type": "markdown",
      "metadata": {
        "id": "view-in-github",
        "colab_type": "text"
      },
      "source": [
        "<a href=\"https://colab.research.google.com/github/HafizOvick/coursera-test/blob/master/Blockchain_tutorial.ipynb\" target=\"_parent\"><img src=\"https://colab.research.google.com/assets/colab-badge.svg\" alt=\"Open In Colab\"/></a>"
      ]
    },
    {
      "cell_type": "code",
      "execution_count": 85,
      "metadata": {
        "id": "R2LxYu32ZDB9"
      },
      "outputs": [],
      "source": [
        "from hashlib import sha256\n",
        "import json\n",
        "import time"
      ]
    },
    {
      "cell_type": "markdown",
      "metadata": {
        "id": "0j42SEdeaOTz"
      },
      "source": [
        "Class for creating the genesis block and computing a hash function:"
      ]
    },
    {
      "cell_type": "code",
      "execution_count": 86,
      "metadata": {
        "id": "i6GDk0OgZYTC"
      },
      "outputs": [],
      "source": [
        "class Block:\n",
        "    def __init__(self, index, transactions, timestamp, previous_hash, nonce=0):\n",
        "      self.index = index\n",
        "      self.transactions = transactions\n",
        "      self.timestamp = timestamp\n",
        "      self.previous_hash = previous_hash\n",
        "      self.nonce = nonce\n",
        "\n",
        "    def compute_hash(self):\n",
        "      block_string = json.dumps(self.__dict__, sort_keys= True)\n",
        "      return sha256(block_string.encode()).hexdigest()\n"
      ]
    },
    {
      "cell_type": "markdown",
      "metadata": {
        "id": "SZQQiVxVaYFA"
      },
      "source": [
        "Class for the rest of the blockchain functions:"
      ]
    },
    {
      "cell_type": "code",
      "execution_count": 87,
      "metadata": {
        "id": "8s1wZ1uWaA3l"
      },
      "outputs": [],
      "source": [
        "class Blockchain:\n",
        "    def __init__(self):\n",
        "      self.unconfirmed_transactions = []\n",
        "      self.chain = []\n",
        "      self.create_genesis_block()\n",
        "\n",
        "    def create_genesis_block(self):\n",
        "      genesis_block = Block(0, [], time.time(), \"0\")\n",
        "      genesis_block.hash = genesis_block.compute_hash()\n",
        "      self.chain.append(genesis_block)\n",
        "\n",
        "    @property\n",
        "    def last_block(self):\n",
        "      return self.chain[-1]\n",
        "\n",
        "    difficulty = 2\n",
        "\n",
        "    def proof_of_work(self, block):\n",
        "      computed_hash = block.compute_hash()\n",
        "      while not computed_hash.startswith('0' * Blockchain.difficulty):\n",
        "        block.nonce +=1\n",
        "        computed_hash = block.compute_hash()\n",
        "        return computed_hash\n",
        "\n",
        "    def add_block(self, block, proof):\n",
        "      previous_hash = self.last_block.hash\n",
        "      if previous_hash != block.previous_hash:\n",
        "        return False\n",
        "        if not self.is_valid_proof(block,proof):\n",
        "          return False\n",
        "          block.hash = proof\n",
        "          self.chain.append(block)\n",
        "          return True\n",
        "\n",
        "    def is_valid_proof(self, block, block_hash):\n",
        "      return (block_hash.startswith('0' * Blockchain.difficulty) and\n",
        "              block_hash == block.compute_hash())\n",
        "\n",
        "    def add_new_transaction(self, transaction):\n",
        "      self.unconfirmed_transactions.append(transaction)\n",
        "\n",
        "    def mine(self):\n",
        "      if not self.unconfirmed_transactions:\n",
        "        return False\n",
        "        last_block = self.last_block\n",
        "        new_block = Block(index=last_block.index+1,\n",
        "                          transactions=self.unconfirmed_transactions,\n",
        "                          timestamp=time.time(),\n",
        "                          previous_hash = last_block.hash)\n",
        "        proof = self.proof_of_work(new_block)\n",
        "        self.add_block(new_block,proof)\n",
        "        self.unconfirmed_transactions = []\n",
        "        return new_block.index\n",
        "\n",
        "    def get_chain(self):\n",
        "        print('Blockchain:')\n",
        "        for i in self.chain:\n",
        "            print('[',i.index,'\\n',\n",
        "                    i.transactions, '\\n',\n",
        "                    i.timestamp, '\\n',\n",
        "                    i.hash,']')\n"
      ]
    },
    {
      "cell_type": "markdown",
      "metadata": {
        "id": "4Tzj0Y_VjmD2"
      },
      "source": [
        "Initiate the blockchain and add some blocks:"
      ]
    },
    {
      "cell_type": "code",
      "execution_count": 88,
      "metadata": {
        "id": "O7som5ayjuMO"
      },
      "outputs": [],
      "source": [
        "blockchain = Blockchain()"
      ]
    },
    {
      "cell_type": "code",
      "source": [
        "Supplier_transaction = {\n",
        "        'timestamp': time.time(),\n",
        "        'signature': 'approved',\n",
        "        'business name': 'Contractor 1',\n",
        "        'business number': '123456',\n",
        "        'postcode': '65200',\n",
        "        'product name': 'cotton',\n",
        "        'amount': 100\n",
        "    }\n",
        "\n",
        "Transport_transaction = {\n",
        "        'timestamp': time.time(),\n",
        "        'signature': 'approved',\n",
        "        'business name': 'Contractor 1',\n",
        "        'business number': '123456',\n",
        "        'postcode': '65100',\n",
        "        'product code': '2',\n",
        "        'amount': 15\n",
        "    }"
      ],
      "metadata": {
        "id": "WNvADLR2Fw2s"
      },
      "execution_count": 89,
      "outputs": []
    },
    {
      "cell_type": "code",
      "execution_count": null,
      "metadata": {
        "id": "J72rLg5OjvI7"
      },
      "outputs": [],
      "source": [
        "t1 = blockchain.add_new_transaction(Supplier_transaction)\n",
        "t2 = blockchain.add_new_transaction(Transport_transaction)\n",
        "block = blockchain.mine()\n",
        "block"
      ]
    },
    {
      "cell_type": "markdown",
      "metadata": {
        "id": "o8Z5GTJ2j2T9"
      },
      "source": [
        "Print the chain so far:"
      ]
    },
    {
      "cell_type": "code",
      "execution_count": null,
      "metadata": {
        "id": "D1la1xgqj4bZ"
      },
      "outputs": [],
      "source": [
        "blockchain.get_chain()"
      ]
    },
    {
      "cell_type": "markdown",
      "metadata": {
        "id": "pfjcHz33j5dq"
      },
      "source": [
        "### Student tasks\n",
        "1. Add a manufacturer transaction and a new block. Print the chain.\n",
        "2. Start a new chain but change the difficulty to 1, 3 or 4 in the initial blockchain class and run the cell again. Do not run other cells above this text.\n",
        "3. Initiate the new chain and add at least two blocks to the chain with one transaction in each block. You can decide the contents of the transactions.\n",
        "4. Print the new chain."
      ]
    },
    {
      "cell_type": "code",
      "execution_count": null,
      "metadata": {
        "id": "4uE9QSpEkv9y"
      },
      "outputs": [],
      "source": [
        "#Task number 1. here"
      ]
    },
    {
      "cell_type": "code",
      "execution_count": null,
      "metadata": {
        "id": "lpmpd6-Xk2AL"
      },
      "outputs": [],
      "source": [
        "#Task number 3. here"
      ]
    },
    {
      "cell_type": "code",
      "execution_count": null,
      "metadata": {
        "id": "jReZ4LVFk_k2"
      },
      "outputs": [],
      "source": [
        "#Task number 4. here"
      ]
    },
    {
      "cell_type": "markdown",
      "metadata": {
        "id": "HOrG5-S8lDz3"
      },
      "source": [
        "## Questions\n",
        "Double click here and add your answers below the questions.\n",
        "\n",
        "1. What did you change the difficulty to?\n",
        "\n",
        "Answer:\n",
        "\n",
        "2. What is the hash function of the block with index 2 in your new chain? How did changing the difficulty change the hash compared to the original chain?\n",
        "\n",
        "Answer:"
      ]
    }
  ],
  "metadata": {
    "colab": {
      "provenance": [],
      "include_colab_link": true
    },
    "kernelspec": {
      "display_name": "Python 3",
      "language": "python",
      "name": "python3"
    },
    "language_info": {
      "codemirror_mode": {
        "name": "ipython",
        "version": 3
      },
      "file_extension": ".py",
      "mimetype": "text/x-python",
      "name": "python",
      "nbconvert_exporter": "python",
      "pygments_lexer": "ipython3",
      "version": "3.7.4"
    }
  },
  "nbformat": 4,
  "nbformat_minor": 0
}